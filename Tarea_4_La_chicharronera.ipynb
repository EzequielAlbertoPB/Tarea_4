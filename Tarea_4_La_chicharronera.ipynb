{
  "nbformat": 4,
  "nbformat_minor": 0,
  "metadata": {
    "colab": {
      "name": "Tarea 4 - La chicharronera.ipynb",
      "provenance": []
    },
    "kernelspec": {
      "name": "python3",
      "display_name": "Python 3"
    },
    "language_info": {
      "name": "python"
    }
  },
  "cells": [
    {
      "cell_type": "code",
      "metadata": {
        "colab": {
          "base_uri": "https://localhost:8080/"
        },
        "id": "rni-sL5u8ccQ",
        "outputId": "69f8bb91-e295-4d61-ad9d-15bf34c44f91"
      },
      "source": [
        "import math\n",
        "\n",
        "print(\"-.-.-.-.Programa que resuelve la fórmula general.-.-.-.-.\")\n",
        "\n",
        "A = float(input(\"\\nIngrese el valor de A (valor elevado al cuadrado): \"))\n",
        "B = float(input(\"Ingrese el valor de B (valor con la variable elevada a la 1): \"))\n",
        "C = float(input(\"Ingrese el valor de C (la constante): \"))\n",
        "\n",
        "resul = (B*B)-(4*A*C)\n",
        "\n",
        "if resul<0 :\n",
        "  resul = resul*-1\n",
        "  resultado = math.sqrt(resul)\n",
        "  print(\"\\nLa ecuacion es \",A,\"x^2, \",B,\"x, \",C)\n",
        "  print(\"la primera raiz es: numero imaginario\",-B,\"+\",\"{:.3f}i\".format(resultado),\"/\",2*A)\n",
        "  print(\"La segunda raiz es: numero imaginario\",-B,\"-\",\"{:.3f}i\".format(resultado),\"/\",2*A)\n",
        "else:\n",
        "  resultado = math.sqrt(resul)\n",
        "  xA = -B+resultado\n",
        "  xB = -B-resultado\n",
        "  xA = xA/(2*A)\n",
        "  xB = xB/(2*A)\n",
        "  print(\"\\nLa ecuacion es \",A,\"x^2, \",B,\"x, \",C)\n",
        "  print(\"\\nLa primera raiz es: \",\"{:.3f}\".format(xA))\n",
        "  print(\"La segunda raiz es: \",\"{:.3f}\".format(xB))\n",
        "\n",
        "print(\"\\n.-.-.-.-.-.Fin del programa-.-.-.-.-.-.\")"
      ],
      "execution_count": null,
      "outputs": [
        {
          "output_type": "stream",
          "name": "stdout",
          "text": [
            "-.-.-.-.Programa que resuelve la fórmula general.-.-.-.-.\n",
            "\n",
            "Ingrese el valor de A (valor elevado al cuadrado): 4.9\n",
            "Ingrese el valor de B (valor con la variable elevada a la 1): -22.94\n",
            "Ingrese el valor de C (la constante): 15\n",
            "\n",
            "La ecuacion es  4.9 x^2,  -22.94 x,  15.0\n",
            "\n",
            "La primera raiz es:  3.896\n",
            "La segunda raiz es:  0.786\n",
            "\n",
            ".-.-.-.-.-.Fin del programa-.-.-.-.-.-.\n"
          ]
        }
      ]
    }
  ]
}